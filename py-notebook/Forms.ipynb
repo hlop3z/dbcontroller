{
 "cells": [
  {
   "cell_type": "code",
   "execution_count": 1,
   "id": "f40271d1-6524-42f8-bf9f-08a7886fa334",
   "metadata": {},
   "outputs": [],
   "source": [
    "import dbcontroller as dbc"
   ]
  },
  {
   "cell_type": "markdown",
   "id": "b5781034-2226-4611-949f-dd431a42e3f2",
   "metadata": {},
   "source": [
    "# Form - Types\n",
    " - form\n",
    " - search\n",
    " - input\n",
    " - crud\n",
    "\n",
    "# Form - Field Tools\n",
    " - field\n",
    " - filters"
   ]
  },
  {
   "cell_type": "markdown",
   "id": "92cc46ed-fd53-42c4-b1b2-4cc14e316ec1",
   "metadata": {},
   "source": [
    "---\n",
    "# Basic\n",
    "---"
   ]
  },
  {
   "cell_type": "code",
   "execution_count": 25,
   "id": "05fb8e65-1d5f-44fe-8d2c-51c65bc34473",
   "metadata": {},
   "outputs": [],
   "source": [
    "@dbc.form\n",
    "class Simple:\n",
    "    \"\"\"Hello Docs\"\"\"\n",
    "    \n",
    "    message = dbc.field(\n",
    "        str, # Single Typing\n",
    "        default=\"Simple Forms\",\n",
    "    )    \n",
    "\n",
    "@dbc.search  # (name=\"HelloWorld\", suffix=\"Input\")\n",
    "class Email:\n",
    "    \"\"\"Hello Docs\"\"\"\n",
    "\n",
    "    value = dbc.field(\n",
    "        str,\n",
    "        required=False,\n",
    "        default=\"demo@helloworld.com\",\n",
    "        regex={\"[\\w\\.-]+@[\\w\\.-]+\": \"invalid email address\"},\n",
    "        rules=[(lambda v: v.startswith(\"demo\") or \"invalid input\")],\n",
    "        filters=dbc.filters(\n",
    "            regex=[(\"^hello\", \"hola\"), (\"com\", \"api\")],\n",
    "            rules=[(lambda v: v.upper())],\n",
    "        ),\n",
    "    )\n",
    "\n",
    "@dbc.input  # (name=\"HelloWorld\", suffix=\"Input\")\n",
    "class User:\n",
    "    \"\"\"Hello Docs\"\"\"\n",
    "    name = dbc.field(\n",
    "        str,\n",
    "        required=True,\n",
    "    )    "
   ]
  },
  {
   "cell_type": "markdown",
   "id": "70a9d6ef-a3c4-41fa-a6c9-37133d3a872a",
   "metadata": {},
   "source": [
    "---\n",
    "# Test - Basic\n",
    "---"
   ]
  },
  {
   "cell_type": "code",
   "execution_count": 26,
   "id": "f3f6bfd8-4419-4165-b385-3ac5edfd9a8b",
   "metadata": {},
   "outputs": [
    {
     "name": "stdout",
     "output_type": "stream",
     "text": [
      "FormResponse(data=namespace(message='Simple Forms'), errors=[], is_valid=True)\n",
      "\n",
      "FormResponse(data=namespace(value='DEMO@HELLOWORLD.API'), errors=[], is_valid=True)\n",
      "\n",
      "FormResponse(data=namespace(name='john doe'), errors=[], is_valid=True)\n"
     ]
    }
   ],
   "source": [
    "# Forms\n",
    "simple_form = Simple()\n",
    "email_form = Email()\n",
    "user_form = User(name=\"john doe\")\n",
    "\n",
    "# Test\n",
    "print(simple_form.input, end=\"\\n\\n\")\n",
    "print(email_form.input, end=\"\\n\\n\")\n",
    "print(user_form.input)"
   ]
  },
  {
   "cell_type": "markdown",
   "id": "64fa73b1-ba49-466a-bade-c4f38937da47",
   "metadata": {},
   "source": [
    "---\n",
    "# Test - C.R.U.D\n",
    "---"
   ]
  },
  {
   "cell_type": "code",
   "execution_count": 27,
   "id": "98c7e82f-04a5-450b-85fa-3838275fed2d",
   "metadata": {},
   "outputs": [],
   "source": [
    "CRUD = dbc.crud(\"user\")\n",
    "\n",
    "\n",
    "@CRUD.create\n",
    "class Create:\n",
    "    name = dbc.field(\n",
    "        str,\n",
    "        filters=dbc.filters(\n",
    "            rules=[lambda v: float(v)],\n",
    "        ),\n",
    "    )\n",
    "\n",
    "\n",
    "@CRUD.update\n",
    "class Update:\n",
    "    name = dbc.field(str)\n",
    "\n",
    "\n",
    "@CRUD.delete\n",
    "class Delete:\n",
    "    name = dbc.field(str)\n",
    "\n",
    "\n",
    "@CRUD.read(\"name_of_my_search\")\n",
    "class Search:\n",
    "    name = dbc.field(str)"
   ]
  },
  {
   "cell_type": "code",
   "execution_count": 28,
   "id": "dc742850-03f1-476d-98a3-45a4a857269e",
   "metadata": {},
   "outputs": [
    {
     "name": "stdout",
     "output_type": "stream",
     "text": [
      "FormResponse(data=namespace(name=1), errors=[{'field': 'name', 'type': 'typing', 'text': \"<class 'str'> is required.\"}], is_valid=False)\n",
      "\n",
      "FormResponse(data=namespace(name=None), errors=[], is_valid=True)\n",
      "\n",
      "FormResponse(data=namespace(name=None), errors=[], is_valid=True)\n",
      "\n",
      "FormResponse(data=namespace(name=None), errors=[], is_valid=True)\n"
     ]
    }
   ],
   "source": [
    "crud_create = Create(name=1)\n",
    "crud_update = Update()\n",
    "crud_delete = Delete()\n",
    "crud_read = Search()\n",
    "\n",
    "# Test\n",
    "print(crud_create.input, end=\"\\n\\n\")\n",
    "print(crud_update.input, end=\"\\n\\n\")\n",
    "print(crud_delete.input, end=\"\\n\\n\")\n",
    "print(crud_read.input)"
   ]
  }
 ],
 "metadata": {
  "kernelspec": {
   "display_name": "Python 3 (ipykernel)",
   "language": "python",
   "name": "python3"
  },
  "language_info": {
   "codemirror_mode": {
    "name": "ipython",
    "version": 3
   },
   "file_extension": ".py",
   "mimetype": "text/x-python",
   "name": "python",
   "nbconvert_exporter": "python",
   "pygments_lexer": "ipython3",
   "version": "3.10.6"
  }
 },
 "nbformat": 4,
 "nbformat_minor": 5
}
