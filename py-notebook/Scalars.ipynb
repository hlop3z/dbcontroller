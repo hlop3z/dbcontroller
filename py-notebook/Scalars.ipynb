{
 "cells": [
  {
   "cell_type": "markdown",
   "id": "a56b798f-5d9e-4233-9945-7a63c3379974",
   "metadata": {},
   "source": [
    "# Setup"
   ]
  },
  {
   "cell_type": "code",
   "execution_count": 1,
   "id": "5c056911-d0e5-4892-ad99-41f450cf4786",
   "metadata": {},
   "outputs": [],
   "source": [
    "import functools\n",
    "\n",
    "from sqlalchemy import create_engine\n",
    "from sqlalchemy.orm import declarative_base\n",
    "\n",
    "import dataclasses as dc\n",
    "import datetime\n",
    "import decimal\n",
    "import typing\n",
    "\n",
    "import dbcontroller as dbc\n",
    "\n",
    "# URL\n",
    "DATABASE_URL = \"sqlite:///example.db\"\n",
    "\n",
    "# Base\n",
    "Base = declarative_base()\n",
    "\n",
    "# Manager\n",
    "SQL = functools.partial(dbc.SQL, DATABASE_URL)\n",
    "\n",
    "# Model\n",
    "model = dbc.Model(sql=Base)\n",
    "\n",
    "\n",
    "# DateTime Functions\n",
    "class Date:\n",
    "    datetime = lambda: datetime.datetime.now()\n",
    "    date = lambda: datetime.date.today()\n",
    "    time = lambda: datetime.datetime.now().time()"
   ]
  },
  {
   "cell_type": "markdown",
   "id": "5432cd8b-807a-4df4-bfff-7b139da4380b",
   "metadata": {},
   "source": [
    "# Models"
   ]
  },
  {
   "cell_type": "code",
   "execution_count": null,
   "id": "52fb41d8-3010-459b-b23d-00c2b657402d",
   "metadata": {},
   "outputs": [],
   "source": [
    "# Create your <types> here.\n",
    "@model.sql\n",
    "class Product:\n",
    "    name: str\n",
    "    aliases: list[str] | None = None\n",
    "    stock: int | None = None\n",
    "    is_available: bool | None = None\n",
    "    created_on: datetime.datetime = dc.field(default_factory=Date.datetime)\n",
    "    available_from: datetime.date = dc.field(default_factory=Date.date)\n",
    "    same_day_shipping_before: datetime.time = dc.field(default_factory=Date.time)\n",
    "    price: decimal.Decimal | None = None\n",
    "    notes: list[dbc.Text] = dc.field(default_factory=list)\n",
    "    is_object: dbc.JSON = dc.field(default_factory=dict)\n",
    "\n",
    "    async def category(self) -> \"Category\":\n",
    "        return Category(name=\"awesome\")\n",
    "\n",
    "\n",
    "@model.sql\n",
    "class Category:\n",
    "    name: str"
   ]
  },
  {
   "cell_type": "markdown",
   "id": "59884378-5efc-44d4-bd2a-76a8f800e4c5",
   "metadata": {},
   "source": [
    "# Test"
   ]
  },
  {
   "cell_type": "code",
   "execution_count": 2,
   "id": "4c38aa78-580e-4667-a5ad-04420edc9f21",
   "metadata": {},
   "outputs": [],
   "source": [
    "# Regular Engine\n",
    "engine = create_engine(DATABASE_URL, echo=True)\n",
    "\n",
    "# Register Tables & Load -> Lazy-Loaded Tables (aka: Types)\n",
    "dbc.Admin.register([Product, Category])\n",
    "dbc.Admin.load()\n",
    "\n",
    "# Create Tables\n",
    "Base.metadata.create_all(engine)"
   ]
  }
 ],
 "metadata": {
  "kernelspec": {
   "display_name": "Python 3 (ipykernel)",
   "language": "python",
   "name": "python3"
  },
  "language_info": {
   "codemirror_mode": {
    "name": "ipython",
    "version": 3
   },
   "file_extension": ".py",
   "mimetype": "text/x-python",
   "name": "python",
   "nbconvert_exporter": "python",
   "pygments_lexer": "ipython3",
   "version": "3.10.6"
  }
 },
 "nbformat": 4,
 "nbformat_minor": 5
}
