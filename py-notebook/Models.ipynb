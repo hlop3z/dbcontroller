{
 "cells": [
  {
   "cell_type": "markdown",
   "id": "842de209-1f38-4135-b88f-39ab1ea965eb",
   "metadata": {},
   "source": [
    "# sqlalchemy"
   ]
  },
  {
   "cell_type": "code",
   "execution_count": 3,
   "id": "1b522859-b969-472a-8a03-d8fe40a374ac",
   "metadata": {},
   "outputs": [],
   "source": [
    "from sqlalchemy import create_engine\n",
    "from sqlalchemy.orm import declarative_base\n",
    "\n",
    "# URL\n",
    "DATABASE_URL = \"sqlite:///notebook-example.db\"\n",
    "\n",
    "# Base\n",
    "Base = declarative_base()\n",
    "\n",
    "# Demo Create Tables\n",
    "def create_tables():\n",
    "    engine = create_engine(DATABASE_URL, echo=False)\n",
    "    Base.metadata.create_all(engine)"
   ]
  },
  {
   "cell_type": "markdown",
   "id": "3b2924d9-f885-46f4-a8b6-a7cbecb6c2fa",
   "metadata": {},
   "source": [
    "# dbcontroller"
   ]
  },
  {
   "cell_type": "code",
   "execution_count": 5,
   "id": "68df402f-9db7-43be-8f70-ebc36255a606",
   "metadata": {},
   "outputs": [],
   "source": [
    "import functools\n",
    "import dbcontroller as dbc\n",
    "\n",
    "model = dbc.Model(sql=Base)\n",
    "SQL = functools.partial(dbc.SQL, DATABASE_URL)"
   ]
  },
  {
   "cell_type": "markdown",
   "id": "e342f2bd-1a34-45f8-81ae-33e100600cef",
   "metadata": {},
   "source": [
    "# Model"
   ]
  },
  {
   "cell_type": "code",
   "execution_count": 3,
   "id": "9616633e-dc04-4ad5-985b-ef4c4c89a6f6",
   "metadata": {},
   "outputs": [],
   "source": [
    "@model.sql(table_name=\"users\")\n",
    "class UserSQL:\n",
    "    name: str\n",
    "    notes: dbc.Text\n",
    "    meta: dbc.JSON\n",
    "    disabled: bool = False"
   ]
  },
  {
   "cell_type": "markdown",
   "id": "f6e2c169-31f3-4f3d-8718-178761b89247",
   "metadata": {},
   "source": [
    "# Manager"
   ]
  },
  {
   "cell_type": "code",
   "execution_count": 4,
   "id": "58c1a5b2-bb84-4772-b5f6-3f51ff40fd70",
   "metadata": {},
   "outputs": [],
   "source": [
    "# Connct \"Type\" to \"Controller\" \n",
    "table = SQL(UserSQL)\n",
    "\n",
    "# Create Table\n",
    "create_tables()"
   ]
  },
  {
   "cell_type": "code",
   "execution_count": 5,
   "id": "a530acb2-5b71-4f6d-a32a-db4390aa290e",
   "metadata": {},
   "outputs": [
    {
     "data": {
      "text/plain": [
       "Response(data=[namespace(_id=1, name='joe doe', notes=None, meta=None, disabled=None, id='MTo6YTU1ZTUzMmVhYjAyOGI0Mg=='), namespace(_id=2, name='jane doll', notes=None, meta=None, disabled=None, id='Mjo6M2VmOWFiYmI1ZGY1YjY0MQ==')], error=False, error_message=None, count=2, pages=0)"
      ]
     },
     "execution_count": 5,
     "metadata": {},
     "output_type": "execute_result"
    }
   ],
   "source": [
    "await table.create([{\"name\": \"joe doe\"}, {\"name\": \"jane doll\"}])"
   ]
  },
  {
   "cell_type": "code",
   "execution_count": 6,
   "id": "19ca2a2e-460b-4861-80e0-9c17c15c9220",
   "metadata": {},
   "outputs": [
    {
     "data": {
      "text/plain": [
       "Response(data=[namespace(_id=1, name='joe doe', notes=None, meta=None, disabled=None, id='MTo6YTU1ZTUzMmVhYjAyOGI0Mg=='), namespace(_id=2, name='jane doll', notes=None, meta=None, disabled=None, id='Mjo6M2VmOWFiYmI1ZGY1YjY0MQ==')], error=False, error_message=None, count=2, pages=1)"
      ]
     },
     "execution_count": 6,
     "metadata": {},
     "output_type": "execute_result"
    }
   ],
   "source": [
    "await table.all()"
   ]
  },
  {
   "cell_type": "markdown",
   "id": "305297a7-2d0f-4691-ba2b-e7036c0c378b",
   "metadata": {},
   "source": [
    "# Others"
   ]
  },
  {
   "cell_type": "code",
   "execution_count": 6,
   "id": "ee18dba4-f529-4946-9c20-9ff8180eef4c",
   "metadata": {},
   "outputs": [
    {
     "ename": "NameError",
     "evalue": "name 'UserSQL' is not defined",
     "output_type": "error",
     "traceback": [
      "\u001b[1;31m---------------------------------------------------------------------------\u001b[0m",
      "\u001b[1;31mNameError\u001b[0m                                 Traceback (most recent call last)",
      "Input \u001b[1;32mIn [6]\u001b[0m, in \u001b[0;36m<cell line: 1>\u001b[1;34m()\u001b[0m\n\u001b[1;32m----> 1\u001b[0m \u001b[43mUserSQL\u001b[49m(name\u001b[38;5;241m=\u001b[39m\u001b[38;5;124m\"\u001b[39m\u001b[38;5;124mHello World\u001b[39m\u001b[38;5;124m\"\u001b[39m)\n",
      "\u001b[1;31mNameError\u001b[0m: name 'UserSQL' is not defined"
     ]
    }
   ],
   "source": [
    "UserSQL(name=\"Hello World\")"
   ]
  },
  {
   "cell_type": "code",
   "execution_count": null,
   "id": "c00d6e9f-4fc7-402d-be40-c3426351dfb6",
   "metadata": {},
   "outputs": [],
   "source": [
    "UserSQL.__annotations__"
   ]
  }
 ],
 "metadata": {
  "kernelspec": {
   "display_name": "Python 3 (ipykernel)",
   "language": "python",
   "name": "python3"
  },
  "language_info": {
   "codemirror_mode": {
    "name": "ipython",
    "version": 3
   },
   "file_extension": ".py",
   "mimetype": "text/x-python",
   "name": "python",
   "nbconvert_exporter": "python",
   "pygments_lexer": "ipython3",
   "version": "3.10.6"
  }
 },
 "nbformat": 4,
 "nbformat_minor": 5
}
