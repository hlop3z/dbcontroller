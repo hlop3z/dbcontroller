{
 "cells": [
  {
   "cell_type": "code",
   "execution_count": 1,
   "id": "8d6c473a-934a-47fc-8515-0bbee373d6c0",
   "metadata": {},
   "outputs": [],
   "source": [
    "import dbcontroller as dbc"
   ]
  },
  {
   "cell_type": "code",
   "execution_count": 6,
   "id": "8b677a1a-775a-48da-8d5f-5ab43603d749",
   "metadata": {},
   "outputs": [],
   "source": [
    "forms = dbc.form.group(\"forms\")"
   ]
  },
  {
   "cell_type": "code",
   "execution_count": 16,
   "id": "0621c9a4-1202-45cc-91c8-3041eaf0d4ae",
   "metadata": {},
   "outputs": [],
   "source": [
    "@forms  # (name=\"HelloWorld\")\n",
    "class Simple:\n",
    "    \"\"\"Hello Docs\"\"\"\n",
    "    \n",
    "    message = dbc.form.field(\n",
    "        str, # Single Typing\n",
    "        default=\"Simple Forms\",\n",
    "    )    \n",
    "\n",
    "@forms\n",
    "class Email:\n",
    "    \"\"\"Hello Docs\"\"\"\n",
    "\n",
    "    value = dbc.form.field(\n",
    "        str,\n",
    "        required=False,\n",
    "        default=\"demo@helloworld.com\",\n",
    "        regex={\"[\\w\\.-]+@[\\w\\.-]+\": \"invalid email address\"},\n",
    "        rules=[(lambda v: v.startswith(\"demo\") or \"invalid input\")],\n",
    "        filters=dbc.form.filters(\n",
    "            regex=[(\"^hello\", \"hola\"), (\"com\", \"api\")],\n",
    "            rules=[(lambda v: v.upper())],\n",
    "        ),\n",
    "    )\n",
    "\n",
    "@forms\n",
    "class User:\n",
    "    \"\"\"Hello Docs\"\"\"\n",
    "    name = dbc.form.field(\n",
    "        str,\n",
    "        required=True,\n",
    "    )    "
   ]
  },
  {
   "cell_type": "code",
   "execution_count": 11,
   "id": "6b5a774f-14d9-40f7-b12c-7f09577e110a",
   "metadata": {},
   "outputs": [
    {
     "data": {
      "text/plain": [
       "FormResponse(data=namespace(message='Simple Forms'), errors=[], is_valid=True, next=None)"
      ]
     },
     "execution_count": 14,
     "metadata": {},
     "output_type": "execute_result"
    }
   ],
   "source": [
    "form = Simple().input\n",
    "form.input"
   ]
  },
  {
   "cell_type": "code",
   "execution_count": 12,
   "id": "590e1dce-66f2-4d92-bf68-94864c271139",
   "metadata": {},
   "outputs": [
    {
     "data": {
      "text/plain": [
       "FormResponse(data=namespace(value='de@@mo@helloworld.com'), errors=[{'field': 'value', 'type': 'rule', 'text': 'invalid input'}], is_valid=False, next=None)"
      ]
     },
     "execution_count": 15,
     "metadata": {},
     "output_type": "execute_result"
    }
   ],
   "source": [
    "Email().input"
   ]
  },
  {
   "cell_type": "code",
   "execution_count": null,
   "id": "af9e3e5c-9f45-454c-8bcb-d6ea030714f0",
   "metadata": {},
   "outputs": [],
   "source": []
  }
 ],
 "metadata": {
  "kernelspec": {
   "display_name": "Python 3 (ipykernel)",
   "language": "python",
   "name": "python3"
  },
  "language_info": {
   "codemirror_mode": {
    "name": "ipython",
    "version": 3
   },
   "file_extension": ".py",
   "mimetype": "text/x-python",
   "name": "python",
   "nbconvert_exporter": "python",
   "pygments_lexer": "ipython3",
   "version": "3.10.6"
  }
 },
 "nbformat": 4,
 "nbformat_minor": 5
}
