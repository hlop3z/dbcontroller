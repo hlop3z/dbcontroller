{
 "cells": [
  {
   "cell_type": "code",
   "execution_count": 1,
   "id": "5c056911-d0e5-4892-ad99-41f450cf4786",
   "metadata": {},
   "outputs": [
    {
     "ename": "Exception",
     "evalue": "Duplicate Type: Product\nExisting Model: __main__",
     "output_type": "error",
     "traceback": [
      "\u001b[1;31m---------------------------------------------------------------------------\u001b[0m",
      "\u001b[1;31mException\u001b[0m                                 Traceback (most recent call last)",
      "Input \u001b[1;32mIn [3]\u001b[0m, in \u001b[0;36m<cell line: 38>\u001b[1;34m()\u001b[0m\n\u001b[0;32m     34\u001b[0m     time \u001b[38;5;241m=\u001b[39m \u001b[38;5;28;01mlambda\u001b[39;00m: datetime\u001b[38;5;241m.\u001b[39mdatetime\u001b[38;5;241m.\u001b[39mnow()\u001b[38;5;241m.\u001b[39mtime()\n\u001b[0;32m     37\u001b[0m \u001b[38;5;66;03m# Create your <types> here.\u001b[39;00m\n\u001b[0;32m     38\u001b[0m \u001b[38;5;129;43m@model\u001b[39;49m\u001b[38;5;241;43m.\u001b[39;49m\u001b[43msql\u001b[49m\u001b[43m(\u001b[49m\u001b[43m)\u001b[49m\n\u001b[1;32m---> 39\u001b[0m \u001b[38;5;28;43;01mclass\u001b[39;49;00m\u001b[43m \u001b[49m\u001b[38;5;21;43;01mProduct\u001b[39;49;00m\u001b[43m:\u001b[49m\n\u001b[0;32m     40\u001b[0m \u001b[43m    \u001b[49m\u001b[43mname\u001b[49m\u001b[43m:\u001b[49m\u001b[43m \u001b[49m\u001b[38;5;28;43mstr\u001b[39;49m\n\u001b[0;32m     41\u001b[0m \u001b[43m    \u001b[49m\u001b[43maliases\u001b[49m\u001b[43m:\u001b[49m\u001b[43m \u001b[49m\u001b[38;5;28;43mlist\u001b[39;49m\u001b[43m[\u001b[49m\u001b[38;5;28;43mstr\u001b[39;49m\u001b[43m]\u001b[49m\u001b[43m \u001b[49m\u001b[38;5;241;43m|\u001b[39;49m\u001b[43m \u001b[49m\u001b[38;5;28;43;01mNone\u001b[39;49;00m\u001b[43m \u001b[49m\u001b[38;5;241;43m=\u001b[39;49m\u001b[43m \u001b[49m\u001b[38;5;28;43;01mNone\u001b[39;49;00m\n",
      "File \u001b[1;32m~\\Documents\\GitAblaze\\dbcontroller\\src\\dbcontroller\\types\\model.py:330\u001b[0m, in \u001b[0;36mModel.__init__.<locals>.custom_type\u001b[1;34m(original_object, table_name, primary_key, required, index, unique, unique_together, many_to_many, ignore, is_sql, is_mongo)\u001b[0m\n\u001b[0;32m    327\u001b[0m custom_class\u001b[38;5;241m.\u001b[39m__meta__ \u001b[38;5;241m=\u001b[39m type_config\n\u001b[0;32m    329\u001b[0m \u001b[38;5;66;03m# Register and Return\u001b[39;00m\n\u001b[1;32m--> 330\u001b[0m \u001b[43mManager\u001b[49m\u001b[38;5;241;43m.\u001b[39;49m\u001b[43mregister_model\u001b[49m\u001b[43m(\u001b[49m\u001b[43mname\u001b[49m\u001b[38;5;241;43m=\u001b[39;49m\u001b[43mtype_config\u001b[49m\u001b[38;5;241;43m.\u001b[39;49m\u001b[43mname\u001b[49m\u001b[43m,\u001b[49m\u001b[43m \u001b[49m\u001b[43mmodel\u001b[49m\u001b[38;5;241;43m=\u001b[39;49m\u001b[43mtype_config\u001b[49m\u001b[43m)\u001b[49m\n\u001b[0;32m    331\u001b[0m \u001b[38;5;28;01mreturn\u001b[39;00m custom_class\n",
      "File \u001b[1;32m~\\Documents\\GitAblaze\\dbcontroller\\src\\dbcontroller\\types\\scalars.py:152\u001b[0m, in \u001b[0;36mSQLManager.register_model\u001b[1;34m(self, name, model)\u001b[0m\n\u001b[0;32m    150\u001b[0m \u001b[38;5;124;03m\"\"\"Register Model\"\"\"\u001b[39;00m\n\u001b[0;32m    151\u001b[0m \u001b[38;5;28;01mif\u001b[39;00m name \u001b[38;5;129;01min\u001b[39;00m \u001b[38;5;28mself\u001b[39m\u001b[38;5;241m.\u001b[39mmodels\u001b[38;5;241m.\u001b[39mkeys():\n\u001b[1;32m--> 152\u001b[0m     \u001b[38;5;28;01mraise\u001b[39;00m \u001b[38;5;167;01mException\u001b[39;00m(\n\u001b[0;32m    153\u001b[0m         \u001b[38;5;124mf\u001b[39m\u001b[38;5;124m\"\u001b[39m\u001b[38;5;124mDuplicate Type: \u001b[39m\u001b[38;5;132;01m{\u001b[39;00mname\u001b[38;5;132;01m}\u001b[39;00m\u001b[38;5;130;01m\\n\u001b[39;00m\u001b[38;5;124mExisting Model: \u001b[39m\u001b[38;5;132;01m{\u001b[39;00mmodel\u001b[38;5;241m.\u001b[39mmodule_path\u001b[38;5;132;01m}\u001b[39;00m\u001b[38;5;124m\"\u001b[39m\n\u001b[0;32m    154\u001b[0m     )\n\u001b[0;32m    155\u001b[0m \u001b[38;5;28mself\u001b[39m\u001b[38;5;241m.\u001b[39mmodels[name] \u001b[38;5;241m=\u001b[39m model\n\u001b[0;32m    156\u001b[0m \u001b[38;5;28mself\u001b[39m\u001b[38;5;241m.\u001b[39mglobals\u001b[38;5;241m.\u001b[39mset(name, model\u001b[38;5;241m.\u001b[39mcustom_class)\n",
      "\u001b[1;31mException\u001b[0m: Duplicate Type: Product\nExisting Model: __main__"
     ]
    }
   ],
   "source": [
    "# -*- coding: utf-8 -*-\n",
    "\"\"\"\n",
    "    Types\n",
    "\"\"\"\n",
    "import functools\n",
    "\n",
    "from sqlalchemy import create_engine\n",
    "from sqlalchemy.orm import declarative_base\n",
    "\n",
    "import dataclasses as dc\n",
    "import datetime\n",
    "import decimal\n",
    "import typing\n",
    "\n",
    "import dbcontroller as dbc\n",
    "\n",
    "# URL\n",
    "DATABASE_URL = \"sqlite:///notebook-example.db\"\n",
    "\n",
    "# Base\n",
    "Base = declarative_base()\n",
    "\n",
    "# Manager\n",
    "SQL = functools.partial(dbc.SQL, DATABASE_URL)\n",
    "\n",
    "# Model\n",
    "model = dbc.Model(sql=Base)\n",
    "\n",
    "\n",
    "# DateTime Functions\n",
    "class Date:\n",
    "    datetime = lambda: datetime.datetime.now()\n",
    "    date = lambda: datetime.date.today()\n",
    "    time = lambda: datetime.datetime.now().time()\n",
    "\n",
    "\n",
    "# Create your <types> here.\n",
    "@model.sql\n",
    "class Product:\n",
    "    name: str\n",
    "    aliases: list[str] | None = None\n",
    "    stock: int | None = None\n",
    "    is_available: bool | None = None\n",
    "    created_on: datetime.datetime = dc.field(default_factory=Date.datetime)\n",
    "    available_from: datetime.date = dc.field(default_factory=Date.date)\n",
    "    same_day_shipping_before: datetime.time = dc.field(default_factory=Date.time)\n",
    "    price: decimal.Decimal | None = None\n",
    "    notes: list[dbc.Text] = dc.field(default_factory=list)\n",
    "    is_object: dbc.JSON = dc.field(default_factory=dict)\n",
    "\n",
    "    async def category(self) -> \"Category\":\n",
    "        return Category(name=\"awesome\")\n",
    "\n",
    "\n",
    "@model.sql\n",
    "class Category:\n",
    "    name: str\n"
   ]
  },
  {
   "cell_type": "code",
   "execution_count": 9,
   "id": "4c38aa78-580e-4667-a5ad-04420edc9f21",
   "metadata": {},
   "outputs": [
    {
     "ename": "TypeError",
     "evalue": "'Table' object is not callable",
     "output_type": "error",
     "traceback": [
      "\u001b[1;31m---------------------------------------------------------------------------\u001b[0m",
      "\u001b[1;31mTypeError\u001b[0m                                 Traceback (most recent call last)",
      "Input \u001b[1;32mIn [9]\u001b[0m, in \u001b[0;36m<cell line: 4>\u001b[1;34m()\u001b[0m\n\u001b[0;32m      1\u001b[0m engine \u001b[38;5;241m=\u001b[39m create_engine(DATABASE_URL, echo\u001b[38;5;241m=\u001b[39m\u001b[38;5;28;01mTrue\u001b[39;00m)\n\u001b[0;32m      3\u001b[0m dbc\u001b[38;5;241m.\u001b[39mAdmin\u001b[38;5;241m.\u001b[39mregister([Product, Category])\n\u001b[1;32m----> 4\u001b[0m \u001b[43mdbc\u001b[49m\u001b[38;5;241;43m.\u001b[39;49m\u001b[43mAdmin\u001b[49m\u001b[38;5;241;43m.\u001b[39;49m\u001b[43mload\u001b[49m\u001b[43m(\u001b[49m\u001b[43m)\u001b[49m\n",
      "File \u001b[1;32m~\\Documents\\GitAblaze\\dbcontroller\\src\\dbcontroller\\types\\singleton.py:48\u001b[0m, in \u001b[0;36mModelSingleton.load\u001b[1;34m(self)\u001b[0m\n\u001b[0;32m     46\u001b[0m \u001b[38;5;28;01mfor\u001b[39;00m current_type \u001b[38;5;129;01min\u001b[39;00m \u001b[38;5;28mself\u001b[39m\u001b[38;5;241m.\u001b[39m_core_models\u001b[38;5;241m.\u001b[39mvalues():\n\u001b[0;32m     47\u001b[0m     \u001b[38;5;28;01mif\u001b[39;00m current_type\u001b[38;5;241m.\u001b[39m_lazy_object:\n\u001b[1;32m---> 48\u001b[0m         \u001b[43mcurrent_type\u001b[49m\u001b[38;5;241;43m.\u001b[39;49m\u001b[43mobjects\u001b[49m\u001b[43m(\u001b[49m\u001b[43m)\u001b[49m\n",
      "\u001b[1;31mTypeError\u001b[0m: 'Table' object is not callable"
     ]
    }
   ],
   "source": [
    "engine = create_engine(DATABASE_URL, echo=True)\n",
    "\n",
    "dbc.Admin.register([Product, Category])\n",
    "dbc.Admin.load()\n"
   ]
  },
  {
   "cell_type": "code",
   "execution_count": null,
   "id": "b0d7fc72-10ee-490c-b265-28bb3af11008",
   "metadata": {},
   "outputs": [],
   "source": [
    "# Base.metadata.create_all(engine)"
   ]
  }
 ],
 "metadata": {
  "kernelspec": {
   "display_name": "Python 3 (ipykernel)",
   "language": "python",
   "name": "python3"
  },
  "language_info": {
   "codemirror_mode": {
    "name": "ipython",
    "version": 3
   },
   "file_extension": ".py",
   "mimetype": "text/x-python",
   "name": "python",
   "nbconvert_exporter": "python",
   "pygments_lexer": "ipython3",
   "version": "3.10.6"
  }
 },
 "nbformat": 4,
 "nbformat_minor": 5
}
