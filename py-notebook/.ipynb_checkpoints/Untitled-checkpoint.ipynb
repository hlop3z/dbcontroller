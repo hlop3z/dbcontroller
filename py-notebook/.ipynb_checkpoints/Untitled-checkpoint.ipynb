{
 "cells": [
  {
   "cell_type": "code",
   "execution_count": 1,
   "id": "1b522859-b969-472a-8a03-d8fe40a374ac",
   "metadata": {},
   "outputs": [],
   "source": [
    "from sqlalchemy import create_engine\n",
    "from sqlalchemy.orm import declarative_base\n",
    "\n",
    "# URL\n",
    "DATABASE_URL = \"sqlite:///notebook-example.db\"\n",
    "\n",
    "# Base\n",
    "Base = declarative_base()\n",
    "\n",
    "# Demo Create Tables\n",
    "def create_tables():\n",
    "    engine = create_engine(DATABASE_URL, echo=False)\n",
    "    Base.metadata.create_all(engine)"
   ]
  },
  {
   "cell_type": "code",
   "execution_count": 2,
   "id": "68df402f-9db7-43be-8f70-ebc36255a606",
   "metadata": {},
   "outputs": [],
   "source": [
    "import functools\n",
    "import dbcontroller as dbc\n",
    "\n",
    "model = dbc.Model(sql=Base)\n",
    "SQL = functools.partial(dbc.SQL, DATABASE_URL)"
   ]
  },
  {
   "cell_type": "code",
   "execution_count": 3,
   "id": "9616633e-dc04-4ad5-985b-ef4c4c89a6f6",
   "metadata": {},
   "outputs": [],
   "source": [
    "@model.sql(table_name=\"users\")\n",
    "class UserSQL:\n",
    "    name: str\n",
    "    notes: dbc.Text\n",
    "    meta: dbc.JSON\n",
    "    disabled: bool = False"
   ]
  },
  {
   "cell_type": "code",
   "execution_count": 4,
   "id": "58c1a5b2-bb84-4772-b5f6-3f51ff40fd70",
   "metadata": {},
   "outputs": [],
   "source": [
    "# Connct \"Type\" to \"Controller\" \n",
    "table = SQL(UserSQL)\n",
    "\n",
    "# Create Table\n",
    "create_tables()"
   ]
  },
  {
   "cell_type": "code",
   "execution_count": 8,
   "id": "a530acb2-5b71-4f6d-a32a-db4390aa290e",
   "metadata": {},
   "outputs": [
    {
     "data": {
      "text/plain": [
       "Response(data=[namespace(_id=1, name='joe doe', notes=None, meta=None, disabled=None, id='MTo6YTU1ZTUzMmVhYjAyOGI0Mg=='), namespace(_id=2, name='jane doll', notes=None, meta=None, disabled=None, id='Mjo6M2VmOWFiYmI1ZGY1YjY0MQ==')], error=False, error_message=None, count=2, pages=0)"
      ]
     },
     "execution_count": 8,
     "metadata": {},
     "output_type": "execute_result"
    }
   ],
   "source": [
    "await table.create([{\"name\": \"joe doe\"}, {\"name\": \"jane doll\"}])"
   ]
  },
  {
   "cell_type": "code",
   "execution_count": 9,
   "id": "19ca2a2e-460b-4861-80e0-9c17c15c9220",
   "metadata": {},
   "outputs": [
    {
     "data": {
      "text/plain": [
       "Response(data=[namespace(_id=1, name='joe doe', notes=None, meta=None, disabled=None, id='MTo6YTU1ZTUzMmVhYjAyOGI0Mg=='), namespace(_id=2, name='jane doll', notes=None, meta=None, disabled=None, id='Mjo6M2VmOWFiYmI1ZGY1YjY0MQ==')], error=False, error_message=None, count=2, pages=1)"
      ]
     },
     "execution_count": 9,
     "metadata": {},
     "output_type": "execute_result"
    }
   ],
   "source": [
    "await table.all()"
   ]
  },
  {
   "cell_type": "code",
   "execution_count": 10,
   "id": "ee18dba4-f529-4946-9c20-9ff8180eef4c",
   "metadata": {},
   "outputs": [
    {
     "data": {
      "text/plain": [
       "<dbcontroller.types.model.UserSQL at 0x2fabf068e80>"
      ]
     },
     "execution_count": 10,
     "metadata": {},
     "output_type": "execute_result"
    }
   ],
   "source": [
    "t = UserSQL(name=\"Hello World\")\n",
    "print(t)"
   ]
  },
  {
   "cell_type": "code",
   "execution_count": null,
   "id": "c00d6e9f-4fc7-402d-be40-c3426351dfb6",
   "metadata": {},
   "outputs": [],
   "source": []
  }
 ],
 "metadata": {
  "kernelspec": {
   "display_name": "Python 3 (ipykernel)",
   "language": "python",
   "name": "python3"
  },
  "language_info": {
   "codemirror_mode": {
    "name": "ipython",
    "version": 3
   },
   "file_extension": ".py",
   "mimetype": "text/x-python",
   "name": "python",
   "nbconvert_exporter": "python",
   "pygments_lexer": "ipython3",
   "version": "3.10.6"
  }
 },
 "nbformat": 4,
 "nbformat_minor": 5
}
