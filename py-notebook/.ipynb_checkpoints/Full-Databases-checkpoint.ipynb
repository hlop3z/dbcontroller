{
 "cells": [
  {
   "cell_type": "code",
   "execution_count": 1,
   "id": "ad6042be-c23e-4be8-b5c4-e0a05cd63dc7",
   "metadata": {},
   "outputs": [],
   "source": [
    "import dbcontroller as dbc\n",
    "import dataclasses as dc\n",
    "import datetime\n",
    "import decimal\n",
    "import typing\n",
    "\n",
    "DB_URL = {\n",
    "    \"sql\" :  \"sqlite:///example.db\",\n",
    "    \"mongo\": \"mongodb://localhost:27017/test_database\"\n",
    "}\n",
    "\n",
    "database = dbc.Database(sql=DB_URL[\"sql\"], mongo=DB_URL[\"mongo\"])"
   ]
  },
  {
   "cell_type": "code",
   "execution_count": 2,
   "id": "ca710152-b416-4190-af59-02cc0f868372",
   "metadata": {},
   "outputs": [
    {
     "data": {
      "text/plain": [
       "sqlalchemy.orm.decl_api.Base"
      ]
     },
     "execution_count": 2,
     "metadata": {},
     "output_type": "execute_result"
    }
   ],
   "source": [
    "# database.model.sql\n",
    "# database.model.mongo\n",
    "# database.base.sql"
   ]
  },
  {
   "cell_type": "code",
   "execution_count": 3,
   "id": "118499d2-1048-4499-9724-e0e86c262c2b",
   "metadata": {},
   "outputs": [],
   "source": [
    "# DateTime Functions\n",
    "class Date:\n",
    "    datetime = lambda: datetime.datetime.now()\n",
    "    date = lambda: datetime.date.today()\n",
    "    time = lambda: datetime.datetime.now().time()"
   ]
  },
  {
   "cell_type": "code",
   "execution_count": 4,
   "id": "fd285ad8-aa8c-4d9a-b2af-678f84190075",
   "metadata": {},
   "outputs": [],
   "source": [
    "@database.model.sql\n",
    "class Product:\n",
    "    name: str\n",
    "    aliases: list[str] | None = None\n",
    "    stock: int | None = None\n",
    "    is_available: bool | None = None\n",
    "    created_on: datetime.datetime = dc.field(default_factory=Date.datetime)\n",
    "    available_from: datetime.date = dc.field(default_factory=Date.date)\n",
    "    same_day_shipping_before: datetime.time = dc.field(default_factory=Date.time)\n",
    "    price: decimal.Decimal | None = None\n",
    "    notes: list[dbc.Text] = dc.field(default_factory=list)\n",
    "    is_object: dbc.JSON = dc.field(default_factory=dict)\n",
    "\n",
    "    async def category(self) -> typing.Optional[\"Category\"]:\n",
    "        return Category(name=\"awesome\")\n",
    "\n",
    "\n",
    "@database.model.mongo\n",
    "class Category:\n",
    "    name: str"
   ]
  },
  {
   "cell_type": "code",
   "execution_count": 5,
   "id": "97277f02-1f0f-4475-9675-60d146444412",
   "metadata": {},
   "outputs": [],
   "source": [
    "manager = database.manage([Product, Category])"
   ]
  },
  {
   "cell_type": "code",
   "execution_count": 6,
   "id": "be9bec95-2766-400e-8de5-3ba48d3877b2",
   "metadata": {},
   "outputs": [],
   "source": [
    "from sqlalchemy import create_engine\n",
    "\n",
    "engine = create_engine(DB_URL[\"sql\"])\n",
    "\n",
    "database.base.sql.metadata.create_all(engine)"
   ]
  },
  {
   "cell_type": "code",
   "execution_count": 9,
   "id": "0512ac9f-9f7d-4c8d-87db-043bdbe0ad29",
   "metadata": {},
   "outputs": [
    {
     "data": {
      "text/plain": [
       "Response(data=namespace(_id=ObjectId('6307f3e55e75bd02e3feaba9'), name='John Doe', id='NjMwN2YzZTU1ZTc1YmQwMmUzZmVhYmE5Ojo3MjBkNzlkYTE0NTk2ZWUw'), error=False, error_message=None, count=0, pages=0)"
      ]
     },
     "execution_count": 9,
     "metadata": {},
     "output_type": "execute_result"
    }
   ],
   "source": [
    "await manager.mongo.Category.create({ \"name\" : \"John Doe\" })"
   ]
  },
  {
   "cell_type": "code",
   "execution_count": 10,
   "id": "66fc92f3-5445-42b0-80be-e54534b07df7",
   "metadata": {},
   "outputs": [
    {
     "name": "stderr",
     "output_type": "stream",
     "text": [
      "C:\\Users\\Hector Lopez\\Documents\\GitTest\\dbcontroller\\.venv\\lib\\site-packages\\databases\\backends\\sqlite.py:120: SAWarning: Dialect sqlite+pysqlite does *not* support Decimal objects natively, and SQLAlchemy must convert from floating point - rounding errors and other issues may occur. Please consider storing Decimal numbers as strings or integers on this platform for lossless storage.\n",
      "  metadata = CursorResultMetaData(context, cursor.description)\n"
     ]
    },
    {
     "data": {
      "text/plain": [
       "Response(data=namespace(_id=1, name='John Doe', stock=None, is_available=None, created_on=None, available_from=None, same_day_shipping_before=None, price=None, is_object=None, category_id=None, id='MTo6YTU1ZTUzMmVhYjAyOGI0Mg=='), error=False, error_message=None, count=0, pages=0)"
      ]
     },
     "execution_count": 10,
     "metadata": {},
     "output_type": "execute_result"
    }
   ],
   "source": [
    "await manager.sql.Product.create({ \"name\" : \"John Doe\" })"
   ]
  },
  {
   "cell_type": "code",
   "execution_count": null,
   "id": "d2c1fa9a-e0dc-42df-aac3-d847993531cc",
   "metadata": {},
   "outputs": [],
   "source": []
  }
 ],
 "metadata": {
  "kernelspec": {
   "display_name": "Python 3 (ipykernel)",
   "language": "python",
   "name": "python3"
  },
  "language_info": {
   "codemirror_mode": {
    "name": "ipython",
    "version": 3
   },
   "file_extension": ".py",
   "mimetype": "text/x-python",
   "name": "python",
   "nbconvert_exporter": "python",
   "pygments_lexer": "ipython3",
   "version": "3.10.6"
  }
 },
 "nbformat": 4,
 "nbformat_minor": 5
}
