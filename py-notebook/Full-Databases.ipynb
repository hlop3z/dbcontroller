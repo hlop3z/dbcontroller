{
 "cells": [
  {
   "cell_type": "markdown",
   "id": "21a6d9aa-4ae6-49bf-a23f-a8d20acf88a2",
   "metadata": {},
   "source": [
    "# Imports"
   ]
  },
  {
   "cell_type": "code",
   "execution_count": 2,
   "id": "ad6042be-c23e-4be8-b5c4-e0a05cd63dc7",
   "metadata": {},
   "outputs": [],
   "source": [
    "import dbcontroller as dbc\n",
    "import dataclasses as dc\n",
    "import datetime\n",
    "import decimal\n",
    "import typing"
   ]
  },
  {
   "cell_type": "markdown",
   "id": "4541f1c0-1750-456e-9cf7-551654707264",
   "metadata": {},
   "source": [
    "# Config"
   ]
  },
  {
   "cell_type": "code",
   "execution_count": 3,
   "id": "ca710152-b416-4190-af59-02cc0f868372",
   "metadata": {},
   "outputs": [],
   "source": [
    "DB_URL = {\n",
    "    \"sql\" :  \"sqlite:///example.db\",\n",
    "    \"mongo\": \"mongodb://localhost:27017/test_database\"\n",
    "}\n",
    "\n",
    "database = dbc.Database(sql=DB_URL[\"sql\"], mongo=DB_URL[\"mongo\"])"
   ]
  },
  {
   "cell_type": "markdown",
   "id": "2123608c-f86b-4c9c-ada1-e5c653d9781c",
   "metadata": {},
   "source": [
    "# Default Factory"
   ]
  },
  {
   "cell_type": "code",
   "execution_count": 4,
   "id": "118499d2-1048-4499-9724-e0e86c262c2b",
   "metadata": {},
   "outputs": [],
   "source": [
    "# DateTime Functions\n",
    "class Date:\n",
    "    datetime = lambda: datetime.datetime.now()\n",
    "    date = lambda: datetime.date.today()\n",
    "    time = lambda: datetime.datetime.now().time()"
   ]
  },
  {
   "cell_type": "markdown",
   "id": "d938f2d3-29e4-4c6e-8255-36e4ab38373a",
   "metadata": {},
   "source": [
    "# Models"
   ]
  },
  {
   "cell_type": "code",
   "execution_count": 5,
   "id": "fd285ad8-aa8c-4d9a-b2af-678f84190075",
   "metadata": {},
   "outputs": [],
   "source": [
    "@database.model.sql\n",
    "class Product:\n",
    "    name: str\n",
    "    aliases: list[str] | None = None\n",
    "    stock: int | None = None\n",
    "    is_available: bool | None = None\n",
    "    created_on: datetime.datetime = dc.field(default_factory=Date.datetime)\n",
    "    available_from: datetime.date = dc.field(default_factory=Date.date)\n",
    "    same_day_shipping_before: datetime.time = dc.field(default_factory=Date.time)\n",
    "    price: decimal.Decimal | None = None\n",
    "    notes: list[dbc.Text] = dc.field(default_factory=list)\n",
    "    is_object: dbc.JSON = dc.field(default_factory=dict)\n",
    "\n",
    "    async def category(self) -> typing.Optional[\"Category\"]:\n",
    "        return Category(name=\"awesome\")\n",
    "\n",
    "\n",
    "@database.model.mongo\n",
    "class Category:\n",
    "    name: str"
   ]
  },
  {
   "cell_type": "markdown",
   "id": "e735fdc7-8d55-46ed-b9db-4c31895e7881",
   "metadata": {},
   "source": [
    "# Manager"
   ]
  },
  {
   "cell_type": "code",
   "execution_count": 6,
   "id": "97277f02-1f0f-4475-9675-60d146444412",
   "metadata": {},
   "outputs": [],
   "source": [
    "manager = database.manage([Product, Category])"
   ]
  },
  {
   "cell_type": "markdown",
   "id": "6f8846ca-50a2-4157-9b0a-8f3eb54677a1",
   "metadata": {},
   "source": [
    "# Tests Purposes Only"
   ]
  },
  {
   "cell_type": "code",
   "execution_count": 10,
   "id": "be9bec95-2766-400e-8de5-3ba48d3877b2",
   "metadata": {},
   "outputs": [],
   "source": [
    "from sqlalchemy import create_engine\n",
    "\n",
    "engine = create_engine(DB_URL[\"sql\"])\n",
    "\n",
    "database.base.metadata.create_all(engine)"
   ]
  },
  {
   "cell_type": "markdown",
   "id": "25b4c5f8-902c-410e-ad54-b66bdb49c89f",
   "metadata": {},
   "source": [
    "# Testing - Mongo"
   ]
  },
  {
   "cell_type": "code",
   "execution_count": 11,
   "id": "0512ac9f-9f7d-4c8d-87db-043bdbe0ad29",
   "metadata": {},
   "outputs": [
    {
     "data": {
      "text/plain": [
       "Response(data=namespace(_id=ObjectId('6309d6617c375e3049b4581f'), name='John Doe', id='NjMwOWQ2NjE3YzM3NWUzMDQ5YjQ1ODFmOjpjNDUyZWM5MDY5ZTZmMGU4'), error=False, error_message=None, count=0, pages=0)"
      ]
     },
     "execution_count": 11,
     "metadata": {},
     "output_type": "execute_result"
    }
   ],
   "source": [
    "await manager.mongo.Category.create({ \"name\" : \"John Doe\" })"
   ]
  },
  {
   "cell_type": "markdown",
   "id": "907dea3c-34ac-450d-9968-789b0f8aa8d6",
   "metadata": {},
   "source": [
    "# Testing - SQL"
   ]
  },
  {
   "cell_type": "code",
   "execution_count": 12,
   "id": "66fc92f3-5445-42b0-80be-e54534b07df7",
   "metadata": {},
   "outputs": [
    {
     "data": {
      "text/plain": [
       "Response(data=namespace(_id=1, name='John Doe', stock=None, is_available=None, created_on=None, available_from=None, same_day_shipping_before=None, price=None, is_object=None, category_id=None, id='MTo6YTU1ZTUzMmVhYjAyOGI0Mg=='), error=False, error_message=None, count=0, pages=0)"
      ]
     },
     "execution_count": 12,
     "metadata": {},
     "output_type": "execute_result"
    }
   ],
   "source": [
    "await manager.sql.Product.create({ \"name\" : \"John Doe\" })"
   ]
  }
 ],
 "metadata": {
  "kernelspec": {
   "display_name": "Python 3 (ipykernel)",
   "language": "python",
   "name": "python3"
  },
  "language_info": {
   "codemirror_mode": {
    "name": "ipython",
    "version": 3
   },
   "file_extension": ".py",
   "mimetype": "text/x-python",
   "name": "python",
   "nbconvert_exporter": "python",
   "pygments_lexer": "ipython3",
   "version": "3.10.6"
  }
 },
 "nbformat": 4,
 "nbformat_minor": 5
}
